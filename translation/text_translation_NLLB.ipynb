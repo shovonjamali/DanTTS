{
  "nbformat": 4,
  "nbformat_minor": 0,
  "metadata": {
    "colab": {
      "provenance": [],
      "machine_shape": "hm",
      "gpuType": "T4"
    },
    "kernelspec": {
      "name": "python3",
      "display_name": "Python 3"
    },
    "language_info": {
      "name": "python"
    },
    "accelerator": "GPU"
  },
  "cells": [
    {
      "cell_type": "markdown",
      "source": [
        "### This Notebook shows a full pipeline for Text language identification and Translation using Facebook models fasttext and No Language Left Behind (NLLB).\n",
        "\n",
        "First, we start with taking an input text in any language, then we will detect its language code using fasttext.\n",
        "\n",
        "After that, we take the entered text, and predicted label and feed them to NLLB which translates text from our original language to whatever language NLLB supports."
      ],
      "metadata": {
        "id": "35FOlWbhTYGv"
      }
    },
    {
      "cell_type": "markdown",
      "source": [
        "# Language Identification"
      ],
      "metadata": {
        "id": "UyZgNOJfQRZ1"
      }
    },
    {
      "cell_type": "code",
      "source": [
        "# download the language model pretrained file\n",
        "!wget https://dl.fbaipublicfiles.com/nllb/lid/lid218e.bin"
      ],
      "metadata": {
        "id": "Eft9k_IQGs4p",
        "colab": {
          "base_uri": "https://localhost:8080/"
        },
        "outputId": "31eb7e09-b70f-40d8-bdf1-e2c75369146d"
      },
      "execution_count": null,
      "outputs": [
        {
          "output_type": "stream",
          "name": "stdout",
          "text": [
            "--2024-05-03 19:10:30--  https://dl.fbaipublicfiles.com/nllb/lid/lid218e.bin\n",
            "Resolving dl.fbaipublicfiles.com (dl.fbaipublicfiles.com)... 108.157.254.15, 108.157.254.124, 108.157.254.102, ...\n",
            "Connecting to dl.fbaipublicfiles.com (dl.fbaipublicfiles.com)|108.157.254.15|:443... connected.\n",
            "HTTP request sent, awaiting response... 200 OK\n",
            "Length: 1176355829 (1.1G) [application/octet-stream]\n",
            "Saving to: ‘lid218e.bin’\n",
            "\n",
            "lid218e.bin         100%[===================>]   1.09G   323MB/s    in 3.5s    \n",
            "\n",
            "2024-05-03 19:10:34 (323 MB/s) - ‘lid218e.bin’ saved [1176355829/1176355829]\n",
            "\n"
          ]
        }
      ]
    },
    {
      "cell_type": "code",
      "source": [
        "!pip install fasttext"
      ],
      "metadata": {
        "id": "REkIwyNbe94B",
        "colab": {
          "base_uri": "https://localhost:8080/"
        },
        "outputId": "f6ecc391-644e-476e-91dd-8cc65dd412db"
      },
      "execution_count": null,
      "outputs": [
        {
          "output_type": "stream",
          "name": "stdout",
          "text": [
            "Collecting fasttext\n",
            "  Downloading fasttext-0.9.2.tar.gz (68 kB)\n",
            "\u001b[?25l     \u001b[90m━━━━━━━━━━━━━━━━━━━━━━━━━━━━━━━━━━━━━━━━\u001b[0m \u001b[32m0.0/68.8 kB\u001b[0m \u001b[31m?\u001b[0m eta \u001b[36m-:--:--\u001b[0m\r\u001b[2K     \u001b[90m━━━━━━━━━━━━━━━━━━━━━━━━━━━━━━━━━━━━━━━━\u001b[0m \u001b[32m68.8/68.8 kB\u001b[0m \u001b[31m1.9 MB/s\u001b[0m eta \u001b[36m0:00:00\u001b[0m\n",
            "\u001b[?25h  Preparing metadata (setup.py) ... \u001b[?25l\u001b[?25hdone\n",
            "Collecting pybind11>=2.2 (from fasttext)\n",
            "  Using cached pybind11-2.12.0-py3-none-any.whl (234 kB)\n",
            "Requirement already satisfied: setuptools>=0.7.0 in /usr/local/lib/python3.10/dist-packages (from fasttext) (67.7.2)\n",
            "Requirement already satisfied: numpy in /usr/local/lib/python3.10/dist-packages (from fasttext) (1.25.2)\n",
            "Building wheels for collected packages: fasttext\n",
            "  Building wheel for fasttext (setup.py) ... \u001b[?25l\u001b[?25hdone\n",
            "  Created wheel for fasttext: filename=fasttext-0.9.2-cp310-cp310-linux_x86_64.whl size=4227137 sha256=77b9c8dcac02715a6f88dc42d5ffcc16a75f8a14f3b9b0d56d8f9d81b676a2de\n",
            "  Stored in directory: /root/.cache/pip/wheels/a5/13/75/f811c84a8ab36eedbaef977a6a58a98990e8e0f1967f98f394\n",
            "Successfully built fasttext\n",
            "Installing collected packages: pybind11, fasttext\n",
            "Successfully installed fasttext-0.9.2 pybind11-2.12.0\n"
          ]
        }
      ]
    },
    {
      "cell_type": "code",
      "source": [
        "import fasttext\n",
        "\n",
        "pretrained_lang_model = \"/content/lid218e.bin\" # path of pretrained model file\n",
        "model = fasttext.load_model(pretrained_lang_model)"
      ],
      "metadata": {
        "id": "VjxcmlAYfAzh",
        "colab": {
          "base_uri": "https://localhost:8080/"
        },
        "outputId": "cb15bbad-c4c9-439e-c81e-757497409d9a"
      },
      "execution_count": null,
      "outputs": [
        {
          "output_type": "stream",
          "name": "stderr",
          "text": [
            "Warning : `load_model` does not return WordVectorModel or SupervisedModel any more, but a `FastText` object which is very similar.\n"
          ]
        }
      ]
    },
    {
      "cell_type": "markdown",
      "source": [
        "Now lets enter a test text in the original language, here we will translate from Arabic to Spanish."
      ],
      "metadata": {
        "id": "vNCxBqEnTOf-"
      }
    },
    {
      "cell_type": "code",
      "source": [
        "text = \"صباح الخير، الجو جميل اليوم والسماء صافية.\"\n",
        "# text = \"Mange tilføjer rå blegselleri til salater. Det første spørgsmål er til skatteministeren af hr.\""
      ],
      "metadata": {
        "id": "U7nrW7uXQpi-"
      },
      "execution_count": null,
      "outputs": []
    },
    {
      "cell_type": "code",
      "source": [
        "predictions = model.predict(text, k=1)\n",
        "print(predictions)"
      ],
      "metadata": {
        "colab": {
          "base_uri": "https://localhost:8080/"
        },
        "id": "yRhYAikeQr11",
        "outputId": "a2459d9c-9439-4dc4-df57-a66ba5f27096"
      },
      "execution_count": null,
      "outputs": [
        {
          "output_type": "stream",
          "name": "stdout",
          "text": [
            "(('__label__arb_Arab',), array([0.99960977]))\n"
          ]
        }
      ]
    },
    {
      "cell_type": "code",
      "source": [
        "input_lang = predictions[0][0].replace('__label__', '')\n",
        "print(input_lang)"
      ],
      "metadata": {
        "id": "GvF0TBVlWFQA",
        "colab": {
          "base_uri": "https://localhost:8080/"
        },
        "outputId": "0c6a230d-7654-4eee-8538-db5c8080c979"
      },
      "execution_count": null,
      "outputs": [
        {
          "output_type": "stream",
          "name": "stdout",
          "text": [
            "arb_Arab\n"
          ]
        }
      ]
    },
    {
      "cell_type": "markdown",
      "source": [
        "Danish target: dan_Latn"
      ],
      "metadata": {
        "id": "g3t8j8bF52jP"
      }
    },
    {
      "cell_type": "markdown",
      "source": [
        "# Text Translation"
      ],
      "metadata": {
        "id": "fmTB8nw2QO_r"
      }
    },
    {
      "cell_type": "code",
      "execution_count": null,
      "metadata": {
        "id": "Csu1xOnJXxPW",
        "colab": {
          "base_uri": "https://localhost:8080/"
        },
        "outputId": "b6ff29cf-6044-46b7-df4f-214476088392"
      },
      "outputs": [
        {
          "output_type": "stream",
          "name": "stdout",
          "text": [
            "Requirement already satisfied: pip in /usr/local/lib/python3.10/dist-packages (23.1.2)\n",
            "Collecting pip\n",
            "  Downloading pip-24.0-py3-none-any.whl (2.1 MB)\n",
            "\u001b[2K     \u001b[90m━━━━━━━━━━━━━━━━━━━━━━━━━━━━━━━━━━━━━━━━\u001b[0m \u001b[32m2.1/2.1 MB\u001b[0m \u001b[31m32.6 MB/s\u001b[0m eta \u001b[36m0:00:00\u001b[0m\n",
            "\u001b[?25hRequirement already satisfied: transformers in /usr/local/lib/python3.10/dist-packages (4.40.1)\n",
            "Requirement already satisfied: filelock in /usr/local/lib/python3.10/dist-packages (from transformers) (3.14.0)\n",
            "Requirement already satisfied: huggingface-hub<1.0,>=0.19.3 in /usr/local/lib/python3.10/dist-packages (from transformers) (0.20.3)\n",
            "Requirement already satisfied: numpy>=1.17 in /usr/local/lib/python3.10/dist-packages (from transformers) (1.25.2)\n",
            "Requirement already satisfied: packaging>=20.0 in /usr/local/lib/python3.10/dist-packages (from transformers) (24.0)\n",
            "Requirement already satisfied: pyyaml>=5.1 in /usr/local/lib/python3.10/dist-packages (from transformers) (6.0.1)\n",
            "Requirement already satisfied: regex!=2019.12.17 in /usr/local/lib/python3.10/dist-packages (from transformers) (2023.12.25)\n",
            "Requirement already satisfied: requests in /usr/local/lib/python3.10/dist-packages (from transformers) (2.31.0)\n",
            "Requirement already satisfied: tokenizers<0.20,>=0.19 in /usr/local/lib/python3.10/dist-packages (from transformers) (0.19.1)\n",
            "Requirement already satisfied: safetensors>=0.4.1 in /usr/local/lib/python3.10/dist-packages (from transformers) (0.4.3)\n",
            "Requirement already satisfied: tqdm>=4.27 in /usr/local/lib/python3.10/dist-packages (from transformers) (4.66.2)\n",
            "Requirement already satisfied: fsspec>=2023.5.0 in /usr/local/lib/python3.10/dist-packages (from huggingface-hub<1.0,>=0.19.3->transformers) (2023.6.0)\n",
            "Requirement already satisfied: typing-extensions>=3.7.4.3 in /usr/local/lib/python3.10/dist-packages (from huggingface-hub<1.0,>=0.19.3->transformers) (4.11.0)\n",
            "Requirement already satisfied: charset-normalizer<4,>=2 in /usr/local/lib/python3.10/dist-packages (from requests->transformers) (3.3.2)\n",
            "Requirement already satisfied: idna<4,>=2.5 in /usr/local/lib/python3.10/dist-packages (from requests->transformers) (3.7)\n",
            "Requirement already satisfied: urllib3<3,>=1.21.1 in /usr/local/lib/python3.10/dist-packages (from requests->transformers) (2.0.7)\n",
            "Requirement already satisfied: certifi>=2017.4.17 in /usr/local/lib/python3.10/dist-packages (from requests->transformers) (2024.2.2)\n",
            "Installing collected packages: pip\n",
            "  Attempting uninstall: pip\n",
            "    Found existing installation: pip 23.1.2\n",
            "    Uninstalling pip-23.1.2:\n",
            "      Successfully uninstalled pip-23.1.2\n",
            "Successfully installed pip-24.0\n"
          ]
        }
      ],
      "source": [
        "!pip install -U pip transformers"
      ]
    },
    {
      "cell_type": "code",
      "source": [
        "!pip install sentencepiece"
      ],
      "metadata": {
        "id": "mYc2Jgjtj2Ec",
        "colab": {
          "base_uri": "https://localhost:8080/"
        },
        "outputId": "f8247262-171b-4f33-d000-8f6b4ce234e6"
      },
      "execution_count": null,
      "outputs": [
        {
          "output_type": "stream",
          "name": "stdout",
          "text": [
            "Requirement already satisfied: sentencepiece in /usr/local/lib/python3.10/dist-packages (0.1.99)\n",
            "\u001b[33mWARNING: Running pip as the 'root' user can result in broken permissions and conflicting behaviour with the system package manager. It is recommended to use a virtual environment instead: https://pip.pypa.io/warnings/venv\u001b[0m\u001b[33m\n",
            "\u001b[0m"
          ]
        }
      ]
    },
    {
      "cell_type": "code",
      "source": [
        "checkpoint = 'facebook/nllb-200-distilled-600M'\n",
        "# checkpoint = 'facebook/nllb-200-1.3B'\n",
        "# checkpoint = 'facebook/nllb-200-3.3B'\n",
        "# checkpoint = 'facebook/nllb-200-distilled-1.3B'"
      ],
      "metadata": {
        "id": "IVvNqR8XRAbQ"
      },
      "execution_count": null,
      "outputs": []
    },
    {
      "cell_type": "code",
      "source": [
        "from transformers import AutoTokenizer, AutoModelForSeq2SeqLM, pipeline\n",
        "model_translate = AutoModelForSeq2SeqLM.from_pretrained(checkpoint)\n",
        "tokenizer = AutoTokenizer.from_pretrained(checkpoint)"
      ],
      "metadata": {
        "id": "gEErPO8NX_-_"
      },
      "execution_count": null,
      "outputs": []
    },
    {
      "cell_type": "code",
      "source": [
        "# target_lang = 'spa_Latn'\n",
        "target_lang = 'dan_Latn'\n",
        "translation_pipeline = pipeline('translation',\n",
        "                                model=model_translate,\n",
        "                                tokenizer=tokenizer,\n",
        "                                src_lang=input_lang,\n",
        "                                tgt_lang=target_lang,\n",
        "                                max_length = 400)\n",
        "output = translation_pipeline(text)\n",
        "print(output[0]['translation_text'])"
      ],
      "metadata": {
        "id": "4ZiJOolWjHrU",
        "colab": {
          "base_uri": "https://localhost:8080/"
        },
        "outputId": "e31ee8f7-6259-47b7-b8f1-efc786def427"
      },
      "execution_count": null,
      "outputs": [
        {
          "output_type": "stream",
          "name": "stdout",
          "text": [
            "Godmorgen, det er godt vejr og himlen er ren.\n"
          ]
        }
      ]
    },
    {
      "cell_type": "markdown",
      "source": [
        "From NLLB: Godmorgen, det er godt vejr og himlen er ren.\n",
        "From Google: Godmorgen, vejret er smukt i dag og himlen er klar."
      ],
      "metadata": {
        "id": "zoqeZYvS6cf7"
      }
    }
  ]
}